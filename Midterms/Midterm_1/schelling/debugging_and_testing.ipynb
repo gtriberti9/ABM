{
 "cells": [
  {
   "cell_type": "code",
   "execution_count": 1,
   "id": "6b7c73cf",
   "metadata": {},
   "outputs": [],
   "source": [
    "import numpy as np\n",
    "import random"
   ]
  },
  {
   "cell_type": "code",
   "execution_count": 2,
   "id": "1963f651",
   "metadata": {},
   "outputs": [
    {
     "name": "stdout",
     "output_type": "stream",
     "text": [
      "Min income class: 0.0374, Max income class: 0.9678\n"
     ]
    }
   ],
   "source": [
    "incomes = [np.random.lognormal(mean=0, sigma=0.8) for _ in range(10000)]\n",
    "normalized = [x / (1 + x) for x in incomes]\n",
    "\n",
    "print(f\"Min income class: {min(normalized):.4f}, Max income class: {max(normalized):.4f}\")"
   ]
  }
 ],
 "metadata": {
  "kernelspec": {
   "display_name": "macs40550",
   "language": "python",
   "name": "python3"
  },
  "language_info": {
   "codemirror_mode": {
    "name": "ipython",
    "version": 3
   },
   "file_extension": ".py",
   "mimetype": "text/x-python",
   "name": "python",
   "nbconvert_exporter": "python",
   "pygments_lexer": "ipython3",
   "version": "3.13.2"
  }
 },
 "nbformat": 4,
 "nbformat_minor": 5
}
